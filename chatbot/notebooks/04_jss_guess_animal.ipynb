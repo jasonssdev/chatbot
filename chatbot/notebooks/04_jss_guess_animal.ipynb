{
 "cells": [
  {
   "cell_type": "code",
   "execution_count": 1,
   "metadata": {},
   "outputs": [],
   "source": [
    "import openai\n",
    "from dotenv import load_dotenv\n",
    "import os\n",
    "from openai import OpenAI"
   ]
  },
  {
   "cell_type": "code",
   "execution_count": 2,
   "metadata": {},
   "outputs": [],
   "source": [
    "load_dotenv()\n",
    "API_KEY = os.getenv(\"OPENAI_API\")\n",
    "client = OpenAI(api_key=API_KEY)"
   ]
  },
  {
   "cell_type": "code",
   "execution_count": 3,
   "metadata": {},
   "outputs": [],
   "source": [
    "import random\n",
    "import unidecode\n",
    "import re\n",
    "from unidecode import unidecode"
   ]
  },
  {
   "cell_type": "code",
   "execution_count": 4,
   "metadata": {},
   "outputs": [],
   "source": [
    "def normalized_text(text):\n",
    "    text = unidecode(text)\n",
    "    text = text.lower()\n",
    "    return text"
   ]
  },
  {
   "cell_type": "code",
   "execution_count": 5,
   "metadata": {},
   "outputs": [],
   "source": [
    "def get_clue():\n",
    "    animal_list = ['elfante', 'león', 'jirafa', 'hipopótamo', 'mono', 'leopardo',  'hiena']\n",
    "    random_animal = normalized_text(random.choice(animal_list))\n",
    "    prompt = 'Adivina la palabra que estoy pensando, es un animal que vive en la selva'\n",
    "    return prompt, random_animal"
   ]
  },
  {
   "cell_type": "code",
   "execution_count": 6,
   "metadata": {},
   "outputs": [],
   "source": [
    "def check_answer(user_input, random_animal):\n",
    "    if user_input == random_animal:\n",
    "        return True\n",
    "    return False"
   ]
  },
  {
   "cell_type": "code",
   "execution_count": 7,
   "metadata": {},
   "outputs": [],
   "source": [
    "def give_property(animal):\n",
    "    response = client.chat.completions.create(\n",
    "        model='gpt-4',\n",
    "        messages=[\n",
    "            {'role': 'user',\n",
    "            'content': 'dame una caracterista de este animal: '+ animal + ', pero jamás digas el nombre'\n",
    "            }\n",
    "        ],\n",
    "        max_tokens=100\n",
    "    )\n",
    "    return response.choices[0].message.content"
   ]
  },
  {
   "cell_type": "code",
   "execution_count": 8,
   "metadata": {},
   "outputs": [],
   "source": [
    "def play_game():\n",
    "    prompt, random_animal = get_clue()\n",
    "    print(prompt)\n",
    "    while True:\n",
    "        user_input = normalized_text(input('Ingresa tu respuesta: '))\n",
    "        if check_answer(user_input, random_animal):\n",
    "            print('You are right!, the answer was:', random_animal)\n",
    "            break\n",
    "        else:\n",
    "            print('wrong! Try again..')\n",
    "            print(give_property(random_animal))"
   ]
  },
  {
   "cell_type": "code",
   "execution_count": 10,
   "metadata": {},
   "outputs": [
    {
     "name": "stdout",
     "output_type": "stream",
     "text": [
      "Adivina la palabra que estoy pensando, es un animal que vive en la selva\n",
      "wrong! Try again..\n",
      "Este animal es reconocido por su pelaje lleno de manchas negras y su velocidad increíble.\n",
      "wrong! Try again..\n",
      "Este animal es conocido por sus manchas de peaje y su agilidad al correr.\n",
      "wrong! Try again..\n",
      "Este animal es conocido por su pelaje cubierto de manchas negras en forma de rosetas.\n",
      "wrong! Try again..\n",
      "Este animal es reconocido por su pelaje con manchas distintivas llamadas rosetas.\n",
      "wrong! Try again..\n",
      "Este animal es conocido por su pelaje manchado y su habilidad para cazar en árboles.\n",
      "wrong! Try again..\n",
      "Este animal es conocido por sus manchas negras únicas en su pelaje dorado o amarillo.\n",
      "You are right!, the answer was: leopardo\n"
     ]
    }
   ],
   "source": [
    "play_game()"
   ]
  },
  {
   "cell_type": "code",
   "execution_count": null,
   "metadata": {},
   "outputs": [],
   "source": []
  }
 ],
 "metadata": {
  "kernelspec": {
   "display_name": ".venv",
   "language": "python",
   "name": "python3"
  },
  "language_info": {
   "codemirror_mode": {
    "name": "ipython",
    "version": 3
   },
   "file_extension": ".py",
   "mimetype": "text/x-python",
   "name": "python",
   "nbconvert_exporter": "python",
   "pygments_lexer": "ipython3",
   "version": "3.12.5"
  }
 },
 "nbformat": 4,
 "nbformat_minor": 2
}
