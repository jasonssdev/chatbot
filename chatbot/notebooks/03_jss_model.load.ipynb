{
 "cells": [
  {
   "cell_type": "code",
   "execution_count": 1,
   "metadata": {},
   "outputs": [],
   "source": [
    "import openai\n",
    "from dotenv import load_dotenv\n",
    "import os\n",
    "from openai import OpenAI"
   ]
  },
  {
   "cell_type": "code",
   "execution_count": 2,
   "metadata": {},
   "outputs": [],
   "source": [
    "load_dotenv()\n",
    "API_KEY = os.getenv(\"OPENAI_API\")\n",
    "client = OpenAI(api_key=API_KEY)"
   ]
  },
  {
   "cell_type": "code",
   "execution_count": 3,
   "metadata": {},
   "outputs": [
    {
     "name": "stdout",
     "output_type": "stream",
     "text": [
      "Fred Again, cuyo nombre real es Fred Gibson, es un productor musical, cantante y compositor británico, conocido por su trabajo en la música electrónica y por su estilo innovador que combina elementos de house, pop y música experimental. Nació el \n"
     ]
    }
   ],
   "source": [
    "response = client.chat.completions.create(\n",
    "    model=('gpt-4o-mini'),\n",
    "    messages=[\n",
    "        {'role': 'system', 'content': 'Eres un asistente que da informacion sobre musica electronica'},\n",
    "        {'role': 'user', 'content': 'Quien es Fred Again?'}\n",
    "    ],\n",
    "    max_tokens=50,\n",
    "    temperature=0.1,\n",
    "    top_p=1,\n",
    "    n=1\n",
    ")\n",
    "\n",
    "print(response.choices[0].message.content)"
   ]
  },
  {
   "cell_type": "code",
   "execution_count": 4,
   "metadata": {},
   "outputs": [
    {
     "name": "stdout",
     "output_type": "stream",
     "text": [
      "Choice(finish_reason='length', index=0, logprobs=None, message=ChatCompletionMessage(content='Fred Again, cuyo nombre real es Fred Gibson, es un productor musical, cantante y compositor británico, conocido por su trabajo en la música electrónica y por su estilo innovador que combina elementos de house, pop y música experimental. Nació el ', refusal=None, role='assistant', function_call=None, tool_calls=None))\n"
     ]
    }
   ],
   "source": [
    "print(response.choices[0])\n"
   ]
  },
  {
   "cell_type": "code",
   "execution_count": null,
   "metadata": {},
   "outputs": [],
   "source": []
  }
 ],
 "metadata": {
  "kernelspec": {
   "display_name": ".venv",
   "language": "python",
   "name": "python3"
  },
  "language_info": {
   "codemirror_mode": {
    "name": "ipython",
    "version": 3
   },
   "file_extension": ".py",
   "mimetype": "text/x-python",
   "name": "python",
   "nbconvert_exporter": "python",
   "pygments_lexer": "ipython3",
   "version": "3.12.5"
  }
 },
 "nbformat": 4,
 "nbformat_minor": 2
}
