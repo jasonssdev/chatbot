{
 "cells": [
  {
   "cell_type": "code",
   "execution_count": 1,
   "metadata": {},
   "outputs": [],
   "source": [
    "import openai\n",
    "from dotenv import load_dotenv\n",
    "import os\n",
    "from openai import OpenAI"
   ]
  },
  {
   "cell_type": "code",
   "execution_count": 2,
   "metadata": {},
   "outputs": [],
   "source": [
    "load_dotenv()\n",
    "API_KEY = os.getenv(\"OPENAI_API\")\n",
    "client = OpenAI(api_key=API_KEY)"
   ]
  },
  {
   "cell_type": "code",
   "execution_count": 3,
   "metadata": {},
   "outputs": [],
   "source": [
    "response = client.chat.completions.create(\n",
    "    model=('gpt-4o-mini'),\n",
    "    messages=[\n",
    "        {'role': 'system', 'content': 'Eres un asistente que da informacion sobre deportes'},\n",
    "        {'role': 'user', 'content': 'Quien ganó el mundial de futbol?'},\n",
    "        {'role': 'assistant', 'content': 'El mundial de futbol de 2022 lo ganó argentina'},\n",
    "        {'role': 'user', 'content': 'Donde se jugó?'}\n",
    "    ]\n",
    ")"
   ]
  },
  {
   "cell_type": "code",
   "execution_count": 4,
   "metadata": {},
   "outputs": [
    {
     "name": "stdout",
     "output_type": "stream",
     "text": [
      "ChatCompletion(id='chatcmpl-A5OCFS6uutolWqA6CmLkCvAer61Fd', choices=[Choice(finish_reason='stop', index=0, logprobs=None, message=ChatCompletionMessage(content='El Mundial de Fútbol de 2022 se jugó en Catar. Fue la primera vez que este torneo se celebró en el Medio Oriente y también la primera vez que se llevó a cabo en el mes de noviembre y diciembre, en lugar de los tradicionales meses de junio y julio.', refusal=None, role='assistant', function_call=None, tool_calls=None))], created=1725848015, model='gpt-4o-mini-2024-07-18', object='chat.completion', service_tier=None, system_fingerprint='fp_483d39d857', usage=CompletionUsage(completion_tokens=58, prompt_tokens=54, total_tokens=112))\n"
     ]
    }
   ],
   "source": [
    "print(response)"
   ]
  },
  {
   "cell_type": "code",
   "execution_count": 6,
   "metadata": {},
   "outputs": [
    {
     "name": "stdout",
     "output_type": "stream",
     "text": [
      "chatcmpl-A5OCFS6uutolWqA6CmLkCvAer61Fd\n"
     ]
    }
   ],
   "source": [
    "print(response.id)"
   ]
  },
  {
   "cell_type": "code",
   "execution_count": 7,
   "metadata": {},
   "outputs": [
    {
     "name": "stdout",
     "output_type": "stream",
     "text": [
      "<class 'openai.types.chat.chat_completion.ChatCompletion'>\n"
     ]
    }
   ],
   "source": [
    "print(type(response))\n"
   ]
  },
  {
   "cell_type": "code",
   "execution_count": 10,
   "metadata": {},
   "outputs": [
    {
     "name": "stdout",
     "output_type": "stream",
     "text": [
      "1725848015\n",
      "gpt-4o-mini-2024-07-18\n",
      "CompletionUsage(completion_tokens=58, prompt_tokens=54, total_tokens=112)\n"
     ]
    }
   ],
   "source": [
    "print(response.created)\n",
    "print(response.model)\n",
    "print(response.usage)\n"
   ]
  },
  {
   "cell_type": "code",
   "execution_count": 11,
   "metadata": {},
   "outputs": [
    {
     "name": "stdout",
     "output_type": "stream",
     "text": [
      "[Choice(finish_reason='stop', index=0, logprobs=None, message=ChatCompletionMessage(content='El Mundial de Fútbol de 2022 se jugó en Catar. Fue la primera vez que este torneo se celebró en el Medio Oriente y también la primera vez que se llevó a cabo en el mes de noviembre y diciembre, en lugar de los tradicionales meses de junio y julio.', refusal=None, role='assistant', function_call=None, tool_calls=None))]\n"
     ]
    }
   ],
   "source": [
    "print(response.choices)\n"
   ]
  },
  {
   "cell_type": "code",
   "execution_count": 15,
   "metadata": {},
   "outputs": [
    {
     "data": {
      "text/plain": [
       "1"
      ]
     },
     "execution_count": 15,
     "metadata": {},
     "output_type": "execute_result"
    }
   ],
   "source": [
    "len(response.choices)"
   ]
  },
  {
   "cell_type": "code",
   "execution_count": 16,
   "metadata": {},
   "outputs": [
    {
     "name": "stdout",
     "output_type": "stream",
     "text": [
      "<class 'list'>\n"
     ]
    }
   ],
   "source": [
    "print(type(response.choices))"
   ]
  },
  {
   "cell_type": "code",
   "execution_count": 17,
   "metadata": {},
   "outputs": [
    {
     "name": "stdout",
     "output_type": "stream",
     "text": [
      "Choice(finish_reason='stop', index=0, logprobs=None, message=ChatCompletionMessage(content='El Mundial de Fútbol de 2022 se jugó en Catar. Fue la primera vez que este torneo se celebró en el Medio Oriente y también la primera vez que se llevó a cabo en el mes de noviembre y diciembre, en lugar de los tradicionales meses de junio y julio.', refusal=None, role='assistant', function_call=None, tool_calls=None))\n"
     ]
    }
   ],
   "source": [
    "print(response.choices[0])\n"
   ]
  },
  {
   "cell_type": "code",
   "execution_count": 18,
   "metadata": {},
   "outputs": [
    {
     "name": "stdout",
     "output_type": "stream",
     "text": [
      "<class 'openai.types.chat.chat_completion.Choice'>\n"
     ]
    }
   ],
   "source": [
    "print(type(response.choices[0]))\n"
   ]
  },
  {
   "cell_type": "code",
   "execution_count": 19,
   "metadata": {},
   "outputs": [
    {
     "name": "stdout",
     "output_type": "stream",
     "text": [
      "<class 'openai.types.chat.chat_completion_message.ChatCompletionMessage'>\n"
     ]
    }
   ],
   "source": [
    "print(type(response.choices[0].message))\n"
   ]
  },
  {
   "cell_type": "code",
   "execution_count": 20,
   "metadata": {},
   "outputs": [
    {
     "name": "stdout",
     "output_type": "stream",
     "text": [
      "ChatCompletionMessage(content='El Mundial de Fútbol de 2022 se jugó en Catar. Fue la primera vez que este torneo se celebró en el Medio Oriente y también la primera vez que se llevó a cabo en el mes de noviembre y diciembre, en lugar de los tradicionales meses de junio y julio.', refusal=None, role='assistant', function_call=None, tool_calls=None)\n"
     ]
    }
   ],
   "source": [
    "print(response.choices[0].message)\n"
   ]
  },
  {
   "cell_type": "code",
   "execution_count": 21,
   "metadata": {},
   "outputs": [
    {
     "name": "stdout",
     "output_type": "stream",
     "text": [
      "El Mundial de Fútbol de 2022 se jugó en Catar. Fue la primera vez que este torneo se celebró en el Medio Oriente y también la primera vez que se llevó a cabo en el mes de noviembre y diciembre, en lugar de los tradicionales meses de junio y julio.\n"
     ]
    }
   ],
   "source": [
    "print(response.choices[0].message.content)\n"
   ]
  },
  {
   "cell_type": "code",
   "execution_count": 25,
   "metadata": {},
   "outputs": [
    {
     "name": "stdout",
     "output_type": "stream",
     "text": [
      "El Mundial de Fútbol de 2022 se jugó en Catar. Fue la primera vez que este torneo se celebró en el Medio Oriente y también la primera vez que se llevó a cabo en noviembre y diciembre, en lugar de los meses tradicionales de junio y julio.\n"
     ]
    }
   ],
   "source": [
    "response2 = client.chat.completions.create(\n",
    "    model=('gpt-4o-mini'),\n",
    "    messages=[\n",
    "        {'role': 'system', 'content': 'Eres un asistente que da informacion sobre deportes'},\n",
    "        {'role': 'user', 'content': 'Quien ganó el mundial de futbol?'},\n",
    "        {'role': 'assistant', 'content': 'El mundial de futbol de 2022 lo ganó argentina'},\n",
    "        {'role': 'user', 'content': 'Donde se jugó?'}\n",
    "    ],\n",
    "    temperature=0.1\n",
    ")\n",
    "\n",
    "print(response2.choices[0].message.content)"
   ]
  },
  {
   "cell_type": "code",
   "execution_count": null,
   "metadata": {},
   "outputs": [],
   "source": []
  }
 ],
 "metadata": {
  "kernelspec": {
   "display_name": ".venv",
   "language": "python",
   "name": "python3"
  },
  "language_info": {
   "codemirror_mode": {
    "name": "ipython",
    "version": 3
   },
   "file_extension": ".py",
   "mimetype": "text/x-python",
   "name": "python",
   "nbconvert_exporter": "python",
   "pygments_lexer": "ipython3",
   "version": "3.12.5"
  }
 },
 "nbformat": 4,
 "nbformat_minor": 2
}
